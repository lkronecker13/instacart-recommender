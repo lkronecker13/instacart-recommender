{
 "cells": [
  {
   "cell_type": "markdown",
   "metadata": {},
   "source": [
    "# Modeling\n",
    "\n",
    "The objective of this notebook is to try different approaches to 'model' our data in the sense of obtaining statistically significant information to be able to recommend products to users."
   ]
  },
  {
   "cell_type": "code",
   "execution_count": 1,
   "metadata": {},
   "outputs": [],
   "source": [
    "from matplotlib import pyplot\n",
    "from processing import *\n",
    "from tools import *\n",
    "from modeling import *\n",
    "from gensim.models import Word2Vec\n",
    "from sklearn.decomposition import PCA\n",
    "from os import path"
   ]
  },
  {
   "cell_type": "code",
   "execution_count": 2,
   "metadata": {},
   "outputs": [],
   "source": [
    "from IPython.core.interactiveshell import InteractiveShell\n",
    "InteractiveShell.ast_node_interactivity = \"all\"\n",
    "\n",
    "from jupyterthemes import jtplot\n",
    "jtplot.style(theme='monokai', context='notebook', ticks=True, grid=False)"
   ]
  },
  {
   "cell_type": "code",
   "execution_count": 3,
   "metadata": {},
   "outputs": [],
   "source": [
    "%matplotlib inline\n",
    "plt.rcParams['figure.figsize'] = [20, 10]"
   ]
  },
  {
   "cell_type": "code",
   "execution_count": 4,
   "metadata": {},
   "outputs": [],
   "source": [
    "df_order_products_train = pd.read_csv('data/instacart_2017_05_01/order_products__train.csv')\n",
    "df_order_products_prior = pd.read_csv('data/instacart_2017_05_01/order_products__prior.csv')\n",
    "df_products = pd.read_csv('data/instacart_2017_05_01/products.csv')"
   ]
  },
  {
   "cell_type": "code",
   "execution_count": 5,
   "metadata": {},
   "outputs": [
    {
     "name": "stderr",
     "output_type": "stream",
     "text": [
      "/Users/lgarcia/opt/anaconda3/envs/ds-env/lib/python3.7/site-packages/IPython/core/interactiveshell.py:3058: DtypeWarning: Columns (9) have mixed types. Specify dtype option on import or set low_memory=False.\n",
      "  interactivity=interactivity, compiler=compiler, result=result)\n"
     ]
    }
   ],
   "source": [
    "df_orders = pd.read_csv('data/enhanced/df_orders.csv')\n",
    "# Filter orders right away so code bellow is less verbose\n",
    "df_orders_prior = df_orders.loc[df_orders['eval_set'] == 'prior']\n",
    "df_orders_train = df_orders.loc[df_orders['eval_set'] == 'train']\n",
    "df_orders_test = df_orders.loc[df_orders['eval_set'] == 'test']"
   ]
  },
  {
   "cell_type": "code",
   "execution_count": 6,
   "metadata": {},
   "outputs": [
    {
     "data": {
      "text/html": [
       "<div>\n",
       "<style scoped>\n",
       "    .dataframe tbody tr th:only-of-type {\n",
       "        vertical-align: middle;\n",
       "    }\n",
       "\n",
       "    .dataframe tbody tr th {\n",
       "        vertical-align: top;\n",
       "    }\n",
       "\n",
       "    .dataframe thead th {\n",
       "        text-align: right;\n",
       "    }\n",
       "</style>\n",
       "<table border=\"1\" class=\"dataframe\">\n",
       "  <thead>\n",
       "    <tr style=\"text-align: right;\">\n",
       "      <th></th>\n",
       "      <th>order_id</th>\n",
       "      <th>user_id</th>\n",
       "      <th>eval_set</th>\n",
       "      <th>order_number</th>\n",
       "      <th>order_dow</th>\n",
       "      <th>order_hour_of_day</th>\n",
       "      <th>days_since_prior_order</th>\n",
       "      <th>order_date</th>\n",
       "      <th>week_of_year</th>\n",
       "      <th>product_sequences</th>\n",
       "    </tr>\n",
       "  </thead>\n",
       "  <tbody>\n",
       "    <tr>\n",
       "      <th>0</th>\n",
       "      <td>2236879</td>\n",
       "      <td>30088</td>\n",
       "      <td>train</td>\n",
       "      <td>4</td>\n",
       "      <td>3</td>\n",
       "      <td>0</td>\n",
       "      <td>29.0</td>\n",
       "      <td>2016-04-01 00:00:00</td>\n",
       "      <td>13</td>\n",
       "      <td>bunchedcilantro_28842 redvinetomato_34969 cola...</td>\n",
       "    </tr>\n",
       "    <tr>\n",
       "      <th>1</th>\n",
       "      <td>857644</td>\n",
       "      <td>69792</td>\n",
       "      <td>train</td>\n",
       "      <td>4</td>\n",
       "      <td>0</td>\n",
       "      <td>0</td>\n",
       "      <td>29.0</td>\n",
       "      <td>2016-04-01 00:00:00</td>\n",
       "      <td>13</td>\n",
       "      <td>organicavocado_47766 shreddedparmesan_4799 unc...</td>\n",
       "    </tr>\n",
       "    <tr>\n",
       "      <th>2</th>\n",
       "      <td>2379808</td>\n",
       "      <td>193128</td>\n",
       "      <td>train</td>\n",
       "      <td>4</td>\n",
       "      <td>6</td>\n",
       "      <td>0</td>\n",
       "      <td>0.0</td>\n",
       "      <td>2016-04-01 00:00:00</td>\n",
       "      <td>13</td>\n",
       "      <td>9paperplate_19779 classicmixvariety_19734</td>\n",
       "    </tr>\n",
       "    <tr>\n",
       "      <th>3</th>\n",
       "      <td>274779</td>\n",
       "      <td>35031</td>\n",
       "      <td>train</td>\n",
       "      <td>4</td>\n",
       "      <td>2</td>\n",
       "      <td>0</td>\n",
       "      <td>0.0</td>\n",
       "      <td>2016-04-01 00:00:00</td>\n",
       "      <td>13</td>\n",
       "      <td>schoolsafechocolatecupcakes_28489 organicwhole...</td>\n",
       "    </tr>\n",
       "    <tr>\n",
       "      <th>4</th>\n",
       "      <td>91799</td>\n",
       "      <td>62272</td>\n",
       "      <td>train</td>\n",
       "      <td>4</td>\n",
       "      <td>1</td>\n",
       "      <td>1</td>\n",
       "      <td>0.0</td>\n",
       "      <td>2016-04-01 01:00:00</td>\n",
       "      <td>13</td>\n",
       "      <td>organicwholewheatelbows_283 ripelargepittedoli...</td>\n",
       "    </tr>\n",
       "  </tbody>\n",
       "</table>\n",
       "</div>"
      ],
      "text/plain": [
       "   order_id  user_id eval_set  order_number  order_dow  order_hour_of_day  \\\n",
       "0   2236879    30088    train             4          3                  0   \n",
       "1    857644    69792    train             4          0                  0   \n",
       "2   2379808   193128    train             4          6                  0   \n",
       "3    274779    35031    train             4          2                  0   \n",
       "4     91799    62272    train             4          1                  1   \n",
       "\n",
       "   days_since_prior_order           order_date  week_of_year  \\\n",
       "0                    29.0  2016-04-01 00:00:00            13   \n",
       "1                    29.0  2016-04-01 00:00:00            13   \n",
       "2                     0.0  2016-04-01 00:00:00            13   \n",
       "3                     0.0  2016-04-01 00:00:00            13   \n",
       "4                     0.0  2016-04-01 01:00:00            13   \n",
       "\n",
       "                                   product_sequences  \n",
       "0  bunchedcilantro_28842 redvinetomato_34969 cola...  \n",
       "1  organicavocado_47766 shreddedparmesan_4799 unc...  \n",
       "2          9paperplate_19779 classicmixvariety_19734  \n",
       "3  schoolsafechocolatecupcakes_28489 organicwhole...  \n",
       "4  organicwholewheatelbows_283 ripelargepittedoli...  "
      ]
     },
     "execution_count": 6,
     "metadata": {},
     "output_type": "execute_result"
    }
   ],
   "source": [
    "# all the user ides are unique in df_orders_train \n",
    "assert df_orders_train.shape[0] == df_orders_train['user_id'].nunique()\n",
    "df_orders_train.head()"
   ]
  },
  {
   "cell_type": "code",
   "execution_count": 7,
   "metadata": {},
   "outputs": [
    {
     "data": {
      "text/html": [
       "<div>\n",
       "<style scoped>\n",
       "    .dataframe tbody tr th:only-of-type {\n",
       "        vertical-align: middle;\n",
       "    }\n",
       "\n",
       "    .dataframe tbody tr th {\n",
       "        vertical-align: top;\n",
       "    }\n",
       "\n",
       "    .dataframe thead th {\n",
       "        text-align: right;\n",
       "    }\n",
       "</style>\n",
       "<table border=\"1\" class=\"dataframe\">\n",
       "  <thead>\n",
       "    <tr style=\"text-align: right;\">\n",
       "      <th></th>\n",
       "      <th>order_id</th>\n",
       "      <th>product_id</th>\n",
       "      <th>add_to_cart_order</th>\n",
       "      <th>reordered</th>\n",
       "      <th>user_id</th>\n",
       "      <th>eval_set</th>\n",
       "      <th>order_number</th>\n",
       "      <th>order_dow</th>\n",
       "      <th>order_hour_of_day</th>\n",
       "      <th>days_since_prior_order</th>\n",
       "      <th>order_date</th>\n",
       "      <th>week_of_year</th>\n",
       "      <th>product_sequences</th>\n",
       "      <th>product_name</th>\n",
       "      <th>aisle_id</th>\n",
       "      <th>department_id</th>\n",
       "    </tr>\n",
       "  </thead>\n",
       "  <tbody>\n",
       "    <tr>\n",
       "      <th>0</th>\n",
       "      <td>1050357</td>\n",
       "      <td>33120</td>\n",
       "      <td>1</td>\n",
       "      <td>1</td>\n",
       "      <td>202279</td>\n",
       "      <td>train</td>\n",
       "      <td>9</td>\n",
       "      <td>1</td>\n",
       "      <td>14</td>\n",
       "      <td>30.0</td>\n",
       "      <td>2016-09-02 14:00:00</td>\n",
       "      <td>35</td>\n",
       "      <td>organiceggwhites_33120 organicturkeybonebroth_...</td>\n",
       "      <td>Organic Egg Whites</td>\n",
       "      <td>86</td>\n",
       "      <td>16</td>\n",
       "    </tr>\n",
       "    <tr>\n",
       "      <th>1</th>\n",
       "      <td>1050357</td>\n",
       "      <td>1003</td>\n",
       "      <td>2</td>\n",
       "      <td>1</td>\n",
       "      <td>202279</td>\n",
       "      <td>train</td>\n",
       "      <td>9</td>\n",
       "      <td>1</td>\n",
       "      <td>14</td>\n",
       "      <td>30.0</td>\n",
       "      <td>2016-09-02 14:00:00</td>\n",
       "      <td>35</td>\n",
       "      <td>organiceggwhites_33120 organicturkeybonebroth_...</td>\n",
       "      <td>Organic Turkey Bone Broth</td>\n",
       "      <td>5</td>\n",
       "      <td>13</td>\n",
       "    </tr>\n",
       "    <tr>\n",
       "      <th>2</th>\n",
       "      <td>1050357</td>\n",
       "      <td>21543</td>\n",
       "      <td>3</td>\n",
       "      <td>1</td>\n",
       "      <td>202279</td>\n",
       "      <td>train</td>\n",
       "      <td>9</td>\n",
       "      <td>1</td>\n",
       "      <td>14</td>\n",
       "      <td>30.0</td>\n",
       "      <td>2016-09-02 14:00:00</td>\n",
       "      <td>35</td>\n",
       "      <td>organiceggwhites_33120 organicturkeybonebroth_...</td>\n",
       "      <td>Organic Quick Oats</td>\n",
       "      <td>130</td>\n",
       "      <td>14</td>\n",
       "    </tr>\n",
       "    <tr>\n",
       "      <th>3</th>\n",
       "      <td>1050357</td>\n",
       "      <td>20995</td>\n",
       "      <td>4</td>\n",
       "      <td>1</td>\n",
       "      <td>202279</td>\n",
       "      <td>train</td>\n",
       "      <td>9</td>\n",
       "      <td>1</td>\n",
       "      <td>14</td>\n",
       "      <td>30.0</td>\n",
       "      <td>2016-09-02 14:00:00</td>\n",
       "      <td>35</td>\n",
       "      <td>organiceggwhites_33120 organicturkeybonebroth_...</td>\n",
       "      <td>Organic Broccoli Florets</td>\n",
       "      <td>116</td>\n",
       "      <td>1</td>\n",
       "    </tr>\n",
       "    <tr>\n",
       "      <th>4</th>\n",
       "      <td>1050357</td>\n",
       "      <td>46064</td>\n",
       "      <td>5</td>\n",
       "      <td>0</td>\n",
       "      <td>202279</td>\n",
       "      <td>train</td>\n",
       "      <td>9</td>\n",
       "      <td>1</td>\n",
       "      <td>14</td>\n",
       "      <td>30.0</td>\n",
       "      <td>2016-09-02 14:00:00</td>\n",
       "      <td>35</td>\n",
       "      <td>organiceggwhites_33120 organicturkeybonebroth_...</td>\n",
       "      <td>Lightly Salted Brown Rice Cakes</td>\n",
       "      <td>78</td>\n",
       "      <td>19</td>\n",
       "    </tr>\n",
       "    <tr>\n",
       "      <th>5</th>\n",
       "      <td>1050357</td>\n",
       "      <td>20168</td>\n",
       "      <td>6</td>\n",
       "      <td>0</td>\n",
       "      <td>202279</td>\n",
       "      <td>train</td>\n",
       "      <td>9</td>\n",
       "      <td>1</td>\n",
       "      <td>14</td>\n",
       "      <td>30.0</td>\n",
       "      <td>2016-09-02 14:00:00</td>\n",
       "      <td>35</td>\n",
       "      <td>organiceggwhites_33120 organicturkeybonebroth_...</td>\n",
       "      <td>Organic Sunflower Seed Spread</td>\n",
       "      <td>88</td>\n",
       "      <td>13</td>\n",
       "    </tr>\n",
       "    <tr>\n",
       "      <th>6</th>\n",
       "      <td>1050357</td>\n",
       "      <td>42824</td>\n",
       "      <td>7</td>\n",
       "      <td>1</td>\n",
       "      <td>202279</td>\n",
       "      <td>train</td>\n",
       "      <td>9</td>\n",
       "      <td>1</td>\n",
       "      <td>14</td>\n",
       "      <td>30.0</td>\n",
       "      <td>2016-09-02 14:00:00</td>\n",
       "      <td>35</td>\n",
       "      <td>organiceggwhites_33120 organicturkeybonebroth_...</td>\n",
       "      <td>Black Eyed Peas</td>\n",
       "      <td>116</td>\n",
       "      <td>1</td>\n",
       "    </tr>\n",
       "    <tr>\n",
       "      <th>7</th>\n",
       "      <td>1050357</td>\n",
       "      <td>4461</td>\n",
       "      <td>8</td>\n",
       "      <td>1</td>\n",
       "      <td>202279</td>\n",
       "      <td>train</td>\n",
       "      <td>9</td>\n",
       "      <td>1</td>\n",
       "      <td>14</td>\n",
       "      <td>30.0</td>\n",
       "      <td>2016-09-02 14:00:00</td>\n",
       "      <td>35</td>\n",
       "      <td>organiceggwhites_33120 organicturkeybonebroth_...</td>\n",
       "      <td>Organic Raw Unfiltered Apple Cider Vinegar</td>\n",
       "      <td>19</td>\n",
       "      <td>13</td>\n",
       "    </tr>\n",
       "    <tr>\n",
       "      <th>8</th>\n",
       "      <td>1050357</td>\n",
       "      <td>45002</td>\n",
       "      <td>9</td>\n",
       "      <td>1</td>\n",
       "      <td>202279</td>\n",
       "      <td>train</td>\n",
       "      <td>9</td>\n",
       "      <td>1</td>\n",
       "      <td>14</td>\n",
       "      <td>30.0</td>\n",
       "      <td>2016-09-02 14:00:00</td>\n",
       "      <td>35</td>\n",
       "      <td>organiceggwhites_33120 organicturkeybonebroth_...</td>\n",
       "      <td>Organic Balsamic Vinegar Of Modena</td>\n",
       "      <td>19</td>\n",
       "      <td>13</td>\n",
       "    </tr>\n",
       "    <tr>\n",
       "      <th>9</th>\n",
       "      <td>1050357</td>\n",
       "      <td>8693</td>\n",
       "      <td>10</td>\n",
       "      <td>0</td>\n",
       "      <td>202279</td>\n",
       "      <td>train</td>\n",
       "      <td>9</td>\n",
       "      <td>1</td>\n",
       "      <td>14</td>\n",
       "      <td>30.0</td>\n",
       "      <td>2016-09-02 14:00:00</td>\n",
       "      <td>35</td>\n",
       "      <td>organiceggwhites_33120 organicturkeybonebroth_...</td>\n",
       "      <td>Dairy Free French Vanilla Creamer Almond Milk</td>\n",
       "      <td>100</td>\n",
       "      <td>21</td>\n",
       "    </tr>\n",
       "  </tbody>\n",
       "</table>\n",
       "</div>"
      ],
      "text/plain": [
       "   order_id  product_id  add_to_cart_order  reordered  user_id eval_set  \\\n",
       "0   1050357       33120                  1          1   202279    train   \n",
       "1   1050357        1003                  2          1   202279    train   \n",
       "2   1050357       21543                  3          1   202279    train   \n",
       "3   1050357       20995                  4          1   202279    train   \n",
       "4   1050357       46064                  5          0   202279    train   \n",
       "5   1050357       20168                  6          0   202279    train   \n",
       "6   1050357       42824                  7          1   202279    train   \n",
       "7   1050357        4461                  8          1   202279    train   \n",
       "8   1050357       45002                  9          1   202279    train   \n",
       "9   1050357        8693                 10          0   202279    train   \n",
       "\n",
       "   order_number  order_dow  order_hour_of_day  days_since_prior_order  \\\n",
       "0             9          1                 14                    30.0   \n",
       "1             9          1                 14                    30.0   \n",
       "2             9          1                 14                    30.0   \n",
       "3             9          1                 14                    30.0   \n",
       "4             9          1                 14                    30.0   \n",
       "5             9          1                 14                    30.0   \n",
       "6             9          1                 14                    30.0   \n",
       "7             9          1                 14                    30.0   \n",
       "8             9          1                 14                    30.0   \n",
       "9             9          1                 14                    30.0   \n",
       "\n",
       "            order_date  week_of_year  \\\n",
       "0  2016-09-02 14:00:00            35   \n",
       "1  2016-09-02 14:00:00            35   \n",
       "2  2016-09-02 14:00:00            35   \n",
       "3  2016-09-02 14:00:00            35   \n",
       "4  2016-09-02 14:00:00            35   \n",
       "5  2016-09-02 14:00:00            35   \n",
       "6  2016-09-02 14:00:00            35   \n",
       "7  2016-09-02 14:00:00            35   \n",
       "8  2016-09-02 14:00:00            35   \n",
       "9  2016-09-02 14:00:00            35   \n",
       "\n",
       "                                   product_sequences  \\\n",
       "0  organiceggwhites_33120 organicturkeybonebroth_...   \n",
       "1  organiceggwhites_33120 organicturkeybonebroth_...   \n",
       "2  organiceggwhites_33120 organicturkeybonebroth_...   \n",
       "3  organiceggwhites_33120 organicturkeybonebroth_...   \n",
       "4  organiceggwhites_33120 organicturkeybonebroth_...   \n",
       "5  organiceggwhites_33120 organicturkeybonebroth_...   \n",
       "6  organiceggwhites_33120 organicturkeybonebroth_...   \n",
       "7  organiceggwhites_33120 organicturkeybonebroth_...   \n",
       "8  organiceggwhites_33120 organicturkeybonebroth_...   \n",
       "9  organiceggwhites_33120 organicturkeybonebroth_...   \n",
       "\n",
       "                                    product_name  aisle_id  department_id  \n",
       "0                             Organic Egg Whites        86             16  \n",
       "1                      Organic Turkey Bone Broth         5             13  \n",
       "2                             Organic Quick Oats       130             14  \n",
       "3                       Organic Broccoli Florets       116              1  \n",
       "4                Lightly Salted Brown Rice Cakes        78             19  \n",
       "5                  Organic Sunflower Seed Spread        88             13  \n",
       "6                                Black Eyed Peas       116              1  \n",
       "7     Organic Raw Unfiltered Apple Cider Vinegar        19             13  \n",
       "8             Organic Balsamic Vinegar Of Modena        19             13  \n",
       "9  Dairy Free French Vanilla Creamer Almond Milk       100             21  "
      ]
     },
     "execution_count": 7,
     "metadata": {},
     "output_type": "execute_result"
    }
   ],
   "source": [
    "tmp_group = df_order_products_train.merge(df_orders_train, how='left', on='order_id').groupby(['user_id']).get_group(202279).merge(df_products, how='left', on='product_id')\n",
    "tmp_group.head(50)"
   ]
  },
  {
   "cell_type": "code",
   "execution_count": 8,
   "metadata": {},
   "outputs": [
    {
     "data": {
      "text/html": [
       "<div>\n",
       "<style scoped>\n",
       "    .dataframe tbody tr th:only-of-type {\n",
       "        vertical-align: middle;\n",
       "    }\n",
       "\n",
       "    .dataframe tbody tr th {\n",
       "        vertical-align: top;\n",
       "    }\n",
       "\n",
       "    .dataframe thead th {\n",
       "        text-align: right;\n",
       "    }\n",
       "</style>\n",
       "<table border=\"1\" class=\"dataframe\">\n",
       "  <thead>\n",
       "    <tr style=\"text-align: right;\">\n",
       "      <th></th>\n",
       "      <th>order_id</th>\n",
       "      <th>user_id</th>\n",
       "      <th>eval_set</th>\n",
       "      <th>order_number</th>\n",
       "      <th>order_dow</th>\n",
       "      <th>order_hour_of_day</th>\n",
       "      <th>days_since_prior_order</th>\n",
       "      <th>week_of_year</th>\n",
       "      <th>product_sequences</th>\n",
       "    </tr>\n",
       "    <tr>\n",
       "      <th>order_date</th>\n",
       "      <th></th>\n",
       "      <th></th>\n",
       "      <th></th>\n",
       "      <th></th>\n",
       "      <th></th>\n",
       "      <th></th>\n",
       "      <th></th>\n",
       "      <th></th>\n",
       "      <th></th>\n",
       "    </tr>\n",
       "  </thead>\n",
       "  <tbody>\n",
       "    <tr>\n",
       "      <th>2016-01-01 00:00:00</th>\n",
       "      <td>2806644</td>\n",
       "      <td>178467</td>\n",
       "      <td>prior</td>\n",
       "      <td>1</td>\n",
       "      <td>2</td>\n",
       "      <td>0</td>\n",
       "      <td>0.0</td>\n",
       "      <td>53</td>\n",
       "      <td>organicbabyspinach_21903 seedlessredgrapes_492...</td>\n",
       "    </tr>\n",
       "    <tr>\n",
       "      <th>2016-01-01 00:00:00</th>\n",
       "      <td>22120</td>\n",
       "      <td>36713</td>\n",
       "      <td>prior</td>\n",
       "      <td>1</td>\n",
       "      <td>0</td>\n",
       "      <td>0</td>\n",
       "      <td>0.0</td>\n",
       "      <td>53</td>\n",
       "      <td>basilpesto_12206 supremelyspicyhummus_15923 or...</td>\n",
       "    </tr>\n",
       "    <tr>\n",
       "      <th>2016-01-01 00:00:00</th>\n",
       "      <td>2455270</td>\n",
       "      <td>36705</td>\n",
       "      <td>prior</td>\n",
       "      <td>1</td>\n",
       "      <td>0</td>\n",
       "      <td>0</td>\n",
       "      <td>0.0</td>\n",
       "      <td>53</td>\n",
       "      <td>organicgreencabbage_47734 unsweetenedalmondmil...</td>\n",
       "    </tr>\n",
       "    <tr>\n",
       "      <th>2016-01-01 00:00:00</th>\n",
       "      <td>1995532</td>\n",
       "      <td>167516</td>\n",
       "      <td>prior</td>\n",
       "      <td>1</td>\n",
       "      <td>0</td>\n",
       "      <td>0</td>\n",
       "      <td>0.0</td>\n",
       "      <td>53</td>\n",
       "      <td>cornchips_11576 organicstrawberries_21137 orga...</td>\n",
       "    </tr>\n",
       "    <tr>\n",
       "      <th>2016-01-01 00:00:00</th>\n",
       "      <td>46045</td>\n",
       "      <td>29128</td>\n",
       "      <td>prior</td>\n",
       "      <td>1</td>\n",
       "      <td>1</td>\n",
       "      <td>0</td>\n",
       "      <td>0.0</td>\n",
       "      <td>53</td>\n",
       "      <td>hassavocados_12341</td>\n",
       "    </tr>\n",
       "  </tbody>\n",
       "</table>\n",
       "</div>"
      ],
      "text/plain": [
       "                     order_id  user_id eval_set  order_number  order_dow  \\\n",
       "order_date                                                                 \n",
       "2016-01-01 00:00:00   2806644   178467    prior             1          2   \n",
       "2016-01-01 00:00:00     22120    36713    prior             1          0   \n",
       "2016-01-01 00:00:00   2455270    36705    prior             1          0   \n",
       "2016-01-01 00:00:00   1995532   167516    prior             1          0   \n",
       "2016-01-01 00:00:00     46045    29128    prior             1          1   \n",
       "\n",
       "                     order_hour_of_day  days_since_prior_order  week_of_year  \\\n",
       "order_date                                                                     \n",
       "2016-01-01 00:00:00                  0                     0.0            53   \n",
       "2016-01-01 00:00:00                  0                     0.0            53   \n",
       "2016-01-01 00:00:00                  0                     0.0            53   \n",
       "2016-01-01 00:00:00                  0                     0.0            53   \n",
       "2016-01-01 00:00:00                  0                     0.0            53   \n",
       "\n",
       "                                                     product_sequences  \n",
       "order_date                                                              \n",
       "2016-01-01 00:00:00  organicbabyspinach_21903 seedlessredgrapes_492...  \n",
       "2016-01-01 00:00:00  basilpesto_12206 supremelyspicyhummus_15923 or...  \n",
       "2016-01-01 00:00:00  organicgreencabbage_47734 unsweetenedalmondmil...  \n",
       "2016-01-01 00:00:00  cornchips_11576 organicstrawberries_21137 orga...  \n",
       "2016-01-01 00:00:00                                 hassavocados_12341  "
      ]
     },
     "execution_count": 8,
     "metadata": {},
     "output_type": "execute_result"
    }
   ],
   "source": [
    "df_orders_prior = df_orders_prior.set_index('order_date')\n",
    "df_orders_prior.head()"
   ]
  },
  {
   "cell_type": "code",
   "execution_count": null,
   "metadata": {},
   "outputs": [],
   "source": []
  },
  {
   "cell_type": "code",
   "execution_count": 9,
   "metadata": {},
   "outputs": [
    {
     "data": {
      "text/plain": [
       "(1638963, 9)"
      ]
     },
     "execution_count": 9,
     "metadata": {},
     "output_type": "execute_result"
    },
    {
     "data": {
      "text/html": [
       "<div>\n",
       "<style scoped>\n",
       "    .dataframe tbody tr th:only-of-type {\n",
       "        vertical-align: middle;\n",
       "    }\n",
       "\n",
       "    .dataframe tbody tr th {\n",
       "        vertical-align: top;\n",
       "    }\n",
       "\n",
       "    .dataframe thead th {\n",
       "        text-align: right;\n",
       "    }\n",
       "</style>\n",
       "<table border=\"1\" class=\"dataframe\">\n",
       "  <thead>\n",
       "    <tr style=\"text-align: right;\">\n",
       "      <th></th>\n",
       "      <th>order_id</th>\n",
       "      <th>user_id</th>\n",
       "      <th>eval_set</th>\n",
       "      <th>order_number</th>\n",
       "      <th>order_dow</th>\n",
       "      <th>order_hour_of_day</th>\n",
       "      <th>days_since_prior_order</th>\n",
       "      <th>week_of_year</th>\n",
       "      <th>product_sequences</th>\n",
       "    </tr>\n",
       "    <tr>\n",
       "      <th>order_date</th>\n",
       "      <th></th>\n",
       "      <th></th>\n",
       "      <th></th>\n",
       "      <th></th>\n",
       "      <th></th>\n",
       "      <th></th>\n",
       "      <th></th>\n",
       "      <th></th>\n",
       "      <th></th>\n",
       "    </tr>\n",
       "  </thead>\n",
       "  <tbody>\n",
       "    <tr>\n",
       "      <th>2016-11-01 00:00:00</th>\n",
       "      <td>1127769</td>\n",
       "      <td>89779</td>\n",
       "      <td>prior</td>\n",
       "      <td>24</td>\n",
       "      <td>0</td>\n",
       "      <td>0</td>\n",
       "      <td>0.0</td>\n",
       "      <td>44</td>\n",
       "      <td>organicbabyspinach_21903 squeezedorangejuice_4...</td>\n",
       "    </tr>\n",
       "    <tr>\n",
       "      <th>2016-11-01 00:00:00</th>\n",
       "      <td>2405636</td>\n",
       "      <td>157190</td>\n",
       "      <td>prior</td>\n",
       "      <td>23</td>\n",
       "      <td>5</td>\n",
       "      <td>0</td>\n",
       "      <td>30.0</td>\n",
       "      <td>44</td>\n",
       "      <td>organicjalapenopepper_35939 organicpineappleco...</td>\n",
       "    </tr>\n",
       "    <tr>\n",
       "      <th>2016-11-01 00:00:00</th>\n",
       "      <td>2498937</td>\n",
       "      <td>48510</td>\n",
       "      <td>prior</td>\n",
       "      <td>22</td>\n",
       "      <td>5</td>\n",
       "      <td>0</td>\n",
       "      <td>30.0</td>\n",
       "      <td>44</td>\n",
       "      <td>marinara_24170 minicucumbers_1408 spinach_4820...</td>\n",
       "    </tr>\n",
       "    <tr>\n",
       "      <th>2016-11-01 00:00:00</th>\n",
       "      <td>677471</td>\n",
       "      <td>136362</td>\n",
       "      <td>prior</td>\n",
       "      <td>22</td>\n",
       "      <td>5</td>\n",
       "      <td>0</td>\n",
       "      <td>30.0</td>\n",
       "      <td>44</td>\n",
       "      <td>organicunsweetenedvanillaalmondmilk_14084 froz...</td>\n",
       "    </tr>\n",
       "    <tr>\n",
       "      <th>2016-11-01 00:00:00</th>\n",
       "      <td>2479647</td>\n",
       "      <td>169066</td>\n",
       "      <td>prior</td>\n",
       "      <td>15</td>\n",
       "      <td>5</td>\n",
       "      <td>0</td>\n",
       "      <td>30.0</td>\n",
       "      <td>44</td>\n",
       "      <td>banana_24852 goldendeliciousapple_23322 malbec...</td>\n",
       "    </tr>\n",
       "  </tbody>\n",
       "</table>\n",
       "</div>"
      ],
      "text/plain": [
       "                     order_id  user_id eval_set  order_number  order_dow  \\\n",
       "order_date                                                                 \n",
       "2016-11-01 00:00:00   1127769    89779    prior            24          0   \n",
       "2016-11-01 00:00:00   2405636   157190    prior            23          5   \n",
       "2016-11-01 00:00:00   2498937    48510    prior            22          5   \n",
       "2016-11-01 00:00:00    677471   136362    prior            22          5   \n",
       "2016-11-01 00:00:00   2479647   169066    prior            15          5   \n",
       "\n",
       "                     order_hour_of_day  days_since_prior_order  week_of_year  \\\n",
       "order_date                                                                     \n",
       "2016-11-01 00:00:00                  0                     0.0            44   \n",
       "2016-11-01 00:00:00                  0                    30.0            44   \n",
       "2016-11-01 00:00:00                  0                    30.0            44   \n",
       "2016-11-01 00:00:00                  0                    30.0            44   \n",
       "2016-11-01 00:00:00                  0                    30.0            44   \n",
       "\n",
       "                                                     product_sequences  \n",
       "order_date                                                              \n",
       "2016-11-01 00:00:00  organicbabyspinach_21903 squeezedorangejuice_4...  \n",
       "2016-11-01 00:00:00  organicjalapenopepper_35939 organicpineappleco...  \n",
       "2016-11-01 00:00:00  marinara_24170 minicucumbers_1408 spinach_4820...  \n",
       "2016-11-01 00:00:00  organicunsweetenedvanillaalmondmilk_14084 froz...  \n",
       "2016-11-01 00:00:00  banana_24852 goldendeliciousapple_23322 malbec...  "
      ]
     },
     "execution_count": 9,
     "metadata": {},
     "output_type": "execute_result"
    }
   ],
   "source": [
    "df_month = df_orders_prior.loc[(df_orders_prior.index >= '2016-11') & (df_orders_prior.index <= '2016-12')]\n",
    "df_month.shape\n",
    "df_month.head()"
   ]
  },
  {
   "cell_type": "code",
   "execution_count": null,
   "metadata": {},
   "outputs": [],
   "source": []
  },
  {
   "cell_type": "code",
   "execution_count": 10,
   "metadata": {},
   "outputs": [],
   "source": [
    "# all_sequences = extract_orders_from_slice(df_month, df_products, df_order_products_prior, as_sentences=True)\n",
    "# all_sequences[:5]"
   ]
  },
  {
   "cell_type": "markdown",
   "metadata": {},
   "source": [
    "## Processing\n",
    "\n",
    "In this section we will process our data so that we can extract the product sequences that correspond t each one of the users. We will also extract all the product sequences and put them together so we can later embed them into a vector space."
   ]
  },
  {
   "cell_type": "code",
   "execution_count": 11,
   "metadata": {},
   "outputs": [
    {
     "name": "stdout",
     "output_type": "stream",
     "text": [
      "85leangroundbeef_1\n"
     ]
    }
   ],
   "source": [
    "def encode_product_name(product_name, product_id):\n",
    "    # Lowercase, remove special characters.\n",
    "    encoded_name = ''.join(e for e in product_name if e.isalnum()).lower() + '_{}'.format(str(product_id))\n",
    "    return encoded_name\n",
    "\n",
    "print(encode_product_name('85% Lean Ground Beef', 1))"
   ]
  },
  {
   "cell_type": "code",
   "execution_count": 12,
   "metadata": {},
   "outputs": [
    {
     "data": {
      "text/html": [
       "<div>\n",
       "<style scoped>\n",
       "    .dataframe tbody tr th:only-of-type {\n",
       "        vertical-align: middle;\n",
       "    }\n",
       "\n",
       "    .dataframe tbody tr th {\n",
       "        vertical-align: top;\n",
       "    }\n",
       "\n",
       "    .dataframe thead th {\n",
       "        text-align: right;\n",
       "    }\n",
       "</style>\n",
       "<table border=\"1\" class=\"dataframe\">\n",
       "  <thead>\n",
       "    <tr style=\"text-align: right;\">\n",
       "      <th></th>\n",
       "      <th>product_id</th>\n",
       "      <th>product_name</th>\n",
       "      <th>aisle_id</th>\n",
       "      <th>department_id</th>\n",
       "      <th>orders_per_product_train</th>\n",
       "      <th>orders_per_product_prior</th>\n",
       "      <th>product_name_encoded</th>\n",
       "    </tr>\n",
       "  </thead>\n",
       "  <tbody>\n",
       "    <tr>\n",
       "      <th>0</th>\n",
       "      <td>1</td>\n",
       "      <td>Chocolate Sandwich Cookies</td>\n",
       "      <td>61</td>\n",
       "      <td>19</td>\n",
       "      <td>76.0</td>\n",
       "      <td>1852.0</td>\n",
       "      <td>chocolatesandwichcookies_1</td>\n",
       "    </tr>\n",
       "    <tr>\n",
       "      <th>1</th>\n",
       "      <td>2</td>\n",
       "      <td>All-Seasons Salt</td>\n",
       "      <td>104</td>\n",
       "      <td>13</td>\n",
       "      <td>4.0</td>\n",
       "      <td>90.0</td>\n",
       "      <td>allseasonssalt_2</td>\n",
       "    </tr>\n",
       "    <tr>\n",
       "      <th>2</th>\n",
       "      <td>3</td>\n",
       "      <td>Robust Golden Unsweetened Oolong Tea</td>\n",
       "      <td>94</td>\n",
       "      <td>7</td>\n",
       "      <td>6.0</td>\n",
       "      <td>277.0</td>\n",
       "      <td>robustgoldenunsweetenedoolongtea_3</td>\n",
       "    </tr>\n",
       "    <tr>\n",
       "      <th>3</th>\n",
       "      <td>4</td>\n",
       "      <td>Smart Ones Classic Favorites Mini Rigatoni Wit...</td>\n",
       "      <td>38</td>\n",
       "      <td>1</td>\n",
       "      <td>22.0</td>\n",
       "      <td>329.0</td>\n",
       "      <td>smartonesclassicfavoritesminirigatoniwithvodka...</td>\n",
       "    </tr>\n",
       "    <tr>\n",
       "      <th>4</th>\n",
       "      <td>5</td>\n",
       "      <td>Green Chile Anytime Sauce</td>\n",
       "      <td>5</td>\n",
       "      <td>13</td>\n",
       "      <td>1.0</td>\n",
       "      <td>15.0</td>\n",
       "      <td>greenchileanytimesauce_5</td>\n",
       "    </tr>\n",
       "  </tbody>\n",
       "</table>\n",
       "</div>"
      ],
      "text/plain": [
       "   product_id                                       product_name  aisle_id  \\\n",
       "0           1                         Chocolate Sandwich Cookies        61   \n",
       "1           2                                   All-Seasons Salt       104   \n",
       "2           3               Robust Golden Unsweetened Oolong Tea        94   \n",
       "3           4  Smart Ones Classic Favorites Mini Rigatoni Wit...        38   \n",
       "4           5                          Green Chile Anytime Sauce         5   \n",
       "\n",
       "   department_id  orders_per_product_train  orders_per_product_prior  \\\n",
       "0             19                      76.0                    1852.0   \n",
       "1             13                       4.0                      90.0   \n",
       "2              7                       6.0                     277.0   \n",
       "3              1                      22.0                     329.0   \n",
       "4             13                       1.0                      15.0   \n",
       "\n",
       "                                product_name_encoded  \n",
       "0                         chocolatesandwichcookies_1  \n",
       "1                                   allseasonssalt_2  \n",
       "2                 robustgoldenunsweetenedoolongtea_3  \n",
       "3  smartonesclassicfavoritesminirigatoniwithvodka...  \n",
       "4                           greenchileanytimesauce_5  "
      ]
     },
     "execution_count": 12,
     "metadata": {},
     "output_type": "execute_result"
    }
   ],
   "source": [
    "if path.exists('data/enhanced/df_products.csv') == False:\n",
    "    # Compute product encoding\n",
    "    df_products['product_name_encoded'] = df_products.apply(lambda row: encode_product_name(row['product_name'], row['product_id']) , axis=1)\n",
    "    # Save it to disk\n",
    "    df_products.to_csv('data/enhanced/df_products.csv', index = None, header=True)\n",
    "else:\n",
    "    # Otherwise load the data\n",
    "    df_products = pd.read_csv('data/enhanced/df_products.csv')\n",
    "    \n",
    "df_products.head()"
   ]
  },
  {
   "cell_type": "code",
   "execution_count": 13,
   "metadata": {},
   "outputs": [
    {
     "name": "stdout",
     "output_type": "stream",
     "text": [
      "49688\n",
      "49688\n"
     ]
    }
   ],
   "source": [
    "assert df_products['product_name'].nunique() == df_products['product_name_encoded'].nunique()\n",
    "print(df_products['product_name'].nunique() )\n",
    "print(df_products['product_name_encoded'].nunique())"
   ]
  },
  {
   "cell_type": "markdown",
   "metadata": {},
   "source": [
    "### Extract sequences for each user\n",
    "\n",
    "Here we will create a dictionary with user id as key and and product sequences per user as values. So we can have refer to the sequences that correspond to each one of the users. The data has been pre-extracted so now we will only need to load it from dist to work with it. The extraction methods can be found in the file : processing.py"
   ]
  },
  {
   "cell_type": "code",
   "execution_count": 14,
   "metadata": {},
   "outputs": [],
   "source": [
    "# Load train product sequences as python lists into user dictionary and list of lists  \n",
    "list_sequences_train = load_file('sequences/train/list_sequences_train.pkl')\n",
    "list_sequences_user_dict_train = load_file('sequences/train/list_sequences_user_dict_train.pkl')\n",
    "\n",
    "# Load train product sequences as sentences\n",
    "sentences_all_train = load_file('sequences/train/sentences_all_train.pkl')\n",
    "sentences_user_dict_train = load_file('sequences/train/sentences_user_dict_train.pkl')"
   ]
  },
  {
   "cell_type": "code",
   "execution_count": 15,
   "metadata": {},
   "outputs": [
    {
     "data": {
      "text/plain": [
       "[['Soda',\n",
       "  'Organic String Cheese',\n",
       "  '0% Greek Strained Yogurt',\n",
       "  'XL Pick-A-Size Paper Towel Rolls',\n",
       "  'Milk Chocolate Almonds',\n",
       "  'Pistachios',\n",
       "  'Cinnamon Toast Crunch',\n",
       "  'Aged White Cheddar Popcorn',\n",
       "  'Organic Whole Milk',\n",
       "  'Organic Half & Half',\n",
       "  'Zero Calorie Cola']]"
      ]
     },
     "execution_count": 15,
     "metadata": {},
     "output_type": "execute_result"
    },
    {
     "data": {
      "text/plain": [
       "['soda_196 organicstringcheese_25133 0greekstrainedyogurt_38928 xlpickasizepapertowelrolls_26405 milkchocolatealmonds_39657 pistachios_10258 cinnamontoastcrunch_13032 agedwhitecheddarpopcorn_26088 organicwholemilk_27845 organichalfhalf_49235 zerocaloriecola_46149']"
      ]
     },
     "execution_count": 15,
     "metadata": {},
     "output_type": "execute_result"
    },
    {
     "name": "stdout",
     "output_type": "stream",
     "text": [
      "--------------------------\n"
     ]
    },
    {
     "data": {
      "text/plain": [
       "[array(['Pork Chorizo', 'Shoestring Fries', 'Potato Hot Dog Buns',\n",
       "        'German Barrel Sauerkraut'], dtype=object)]"
      ]
     },
     "execution_count": 15,
     "metadata": {},
     "output_type": "execute_result"
    },
    {
     "data": {
      "text/plain": [
       "'porkchorizo_29650 shoestringfries_48720 potatohotdogbuns_24654 germanbarrelsauerkraut_10177'"
      ]
     },
     "execution_count": 15,
     "metadata": {},
     "output_type": "execute_result"
    }
   ],
   "source": [
    "list_sequences_train[:1]\n",
    "sentences_all_train[:1]\n",
    "print('--------------------------')\n",
    "list_sequences_user_dict_train[10]\n",
    "sentences_user_dict_train[10]"
   ]
  },
  {
   "cell_type": "markdown",
   "metadata": {},
   "source": [
    "Let's grab a sample user and see how the data was processed for it."
   ]
  },
  {
   "cell_type": "code",
   "execution_count": 16,
   "metadata": {
    "scrolled": false
   },
   "outputs": [
    {
     "name": "stdout",
     "output_type": "stream",
     "text": [
      "First 10 users : [1, 2, 5, 7, 8, 9, 10, 13, 14, 17]\n",
      "Exploring processed data for sample user: 7 \n",
      "\n",
      "Sentences for sample user: \n",
      " panamapeachantioxidantinfusion_12053 antioxidantinfusionsbeveragemalawimango_47272 antioxidantinfusionsipanemapomegranatebeverage_37999 85leangroundbeef_13198 raspberrylemonade_43967 lactosefreefatfreemilk_40852 vanillacoffeeconcentrate_17638 organicdarkbrownsugar_29894 honeycrispapple_45066 \n",
      "\n",
      "Sequences for sample user: \n",
      " [array(['Panama Peach Antioxidant Infusion',\n",
      "       'Antioxidant Infusions Beverage Malawi Mango',\n",
      "       'Antioxidant Infusions Ipanema Pomegranate Beverage',\n",
      "       '85% Lean Ground Beef', 'Raspberry Lemonade',\n",
      "       'Lactose Free Fat Free Milk', 'Vanilla Coffee Concentrate',\n",
      "       'Organic Dark Brown Sugar', 'Honeycrisp Apple'], dtype=object)] \n",
      "\n",
      "First 10 user ids: [1, 2, 5, 7, 8, 9, 10, 13, 14, 17]\n"
     ]
    },
    {
     "data": {
      "text/html": [
       "<div>\n",
       "<style scoped>\n",
       "    .dataframe tbody tr th:only-of-type {\n",
       "        vertical-align: middle;\n",
       "    }\n",
       "\n",
       "    .dataframe tbody tr th {\n",
       "        vertical-align: top;\n",
       "    }\n",
       "\n",
       "    .dataframe thead th {\n",
       "        text-align: right;\n",
       "    }\n",
       "</style>\n",
       "<table border=\"1\" class=\"dataframe\">\n",
       "  <thead>\n",
       "    <tr style=\"text-align: right;\">\n",
       "      <th></th>\n",
       "      <th>order_id</th>\n",
       "      <th>product_id</th>\n",
       "      <th>add_to_cart_order</th>\n",
       "      <th>reordered</th>\n",
       "      <th>product_name</th>\n",
       "      <th>aisle_id</th>\n",
       "      <th>department_id</th>\n",
       "      <th>orders_per_product_train</th>\n",
       "      <th>orders_per_product_prior</th>\n",
       "      <th>product_name_encoded</th>\n",
       "    </tr>\n",
       "  </thead>\n",
       "  <tbody>\n",
       "    <tr>\n",
       "      <th>0</th>\n",
       "      <td>525192</td>\n",
       "      <td>12053</td>\n",
       "      <td>1</td>\n",
       "      <td>0</td>\n",
       "      <td>Panama Peach Antioxidant Infusion</td>\n",
       "      <td>31</td>\n",
       "      <td>7</td>\n",
       "      <td>27.0</td>\n",
       "      <td>610.0</td>\n",
       "      <td>panamapeachantioxidantinfusion_12053</td>\n",
       "    </tr>\n",
       "    <tr>\n",
       "      <th>1</th>\n",
       "      <td>525192</td>\n",
       "      <td>47272</td>\n",
       "      <td>2</td>\n",
       "      <td>1</td>\n",
       "      <td>Antioxidant Infusions Beverage Malawi Mango</td>\n",
       "      <td>31</td>\n",
       "      <td>7</td>\n",
       "      <td>27.0</td>\n",
       "      <td>644.0</td>\n",
       "      <td>antioxidantinfusionsbeveragemalawimango_47272</td>\n",
       "    </tr>\n",
       "    <tr>\n",
       "      <th>2</th>\n",
       "      <td>525192</td>\n",
       "      <td>37999</td>\n",
       "      <td>3</td>\n",
       "      <td>1</td>\n",
       "      <td>Antioxidant Infusions Ipanema Pomegranate Beve...</td>\n",
       "      <td>31</td>\n",
       "      <td>7</td>\n",
       "      <td>33.0</td>\n",
       "      <td>765.0</td>\n",
       "      <td>antioxidantinfusionsipanemapomegranatebeverage...</td>\n",
       "    </tr>\n",
       "    <tr>\n",
       "      <th>3</th>\n",
       "      <td>525192</td>\n",
       "      <td>13198</td>\n",
       "      <td>4</td>\n",
       "      <td>1</td>\n",
       "      <td>85% Lean Ground Beef</td>\n",
       "      <td>122</td>\n",
       "      <td>12</td>\n",
       "      <td>642.0</td>\n",
       "      <td>12123.0</td>\n",
       "      <td>85leangroundbeef_13198</td>\n",
       "    </tr>\n",
       "    <tr>\n",
       "      <th>4</th>\n",
       "      <td>525192</td>\n",
       "      <td>43967</td>\n",
       "      <td>5</td>\n",
       "      <td>1</td>\n",
       "      <td>Raspberry Lemonade</td>\n",
       "      <td>31</td>\n",
       "      <td>7</td>\n",
       "      <td>236.0</td>\n",
       "      <td>5315.0</td>\n",
       "      <td>raspberrylemonade_43967</td>\n",
       "    </tr>\n",
       "    <tr>\n",
       "      <th>5</th>\n",
       "      <td>525192</td>\n",
       "      <td>40852</td>\n",
       "      <td>6</td>\n",
       "      <td>1</td>\n",
       "      <td>Lactose Free Fat Free Milk</td>\n",
       "      <td>91</td>\n",
       "      <td>16</td>\n",
       "      <td>167.0</td>\n",
       "      <td>4650.0</td>\n",
       "      <td>lactosefreefatfreemilk_40852</td>\n",
       "    </tr>\n",
       "    <tr>\n",
       "      <th>6</th>\n",
       "      <td>525192</td>\n",
       "      <td>17638</td>\n",
       "      <td>7</td>\n",
       "      <td>1</td>\n",
       "      <td>Vanilla Coffee Concentrate</td>\n",
       "      <td>26</td>\n",
       "      <td>7</td>\n",
       "      <td>85.0</td>\n",
       "      <td>1975.0</td>\n",
       "      <td>vanillacoffeeconcentrate_17638</td>\n",
       "    </tr>\n",
       "    <tr>\n",
       "      <th>7</th>\n",
       "      <td>525192</td>\n",
       "      <td>29894</td>\n",
       "      <td>8</td>\n",
       "      <td>1</td>\n",
       "      <td>Organic Dark Brown Sugar</td>\n",
       "      <td>17</td>\n",
       "      <td>13</td>\n",
       "      <td>55.0</td>\n",
       "      <td>1501.0</td>\n",
       "      <td>organicdarkbrownsugar_29894</td>\n",
       "    </tr>\n",
       "    <tr>\n",
       "      <th>8</th>\n",
       "      <td>525192</td>\n",
       "      <td>45066</td>\n",
       "      <td>9</td>\n",
       "      <td>1</td>\n",
       "      <td>Honeycrisp Apple</td>\n",
       "      <td>24</td>\n",
       "      <td>4</td>\n",
       "      <td>3551.0</td>\n",
       "      <td>79769.0</td>\n",
       "      <td>honeycrispapple_45066</td>\n",
       "    </tr>\n",
       "  </tbody>\n",
       "</table>\n",
       "</div>"
      ],
      "text/plain": [
       "   order_id  product_id  add_to_cart_order  reordered  \\\n",
       "0    525192       12053                  1          0   \n",
       "1    525192       47272                  2          1   \n",
       "2    525192       37999                  3          1   \n",
       "3    525192       13198                  4          1   \n",
       "4    525192       43967                  5          1   \n",
       "5    525192       40852                  6          1   \n",
       "6    525192       17638                  7          1   \n",
       "7    525192       29894                  8          1   \n",
       "8    525192       45066                  9          1   \n",
       "\n",
       "                                        product_name  aisle_id  department_id  \\\n",
       "0                  Panama Peach Antioxidant Infusion        31              7   \n",
       "1        Antioxidant Infusions Beverage Malawi Mango        31              7   \n",
       "2  Antioxidant Infusions Ipanema Pomegranate Beve...        31              7   \n",
       "3                               85% Lean Ground Beef       122             12   \n",
       "4                                 Raspberry Lemonade        31              7   \n",
       "5                         Lactose Free Fat Free Milk        91             16   \n",
       "6                         Vanilla Coffee Concentrate        26              7   \n",
       "7                           Organic Dark Brown Sugar        17             13   \n",
       "8                                   Honeycrisp Apple        24              4   \n",
       "\n",
       "   orders_per_product_train  orders_per_product_prior  \\\n",
       "0                      27.0                     610.0   \n",
       "1                      27.0                     644.0   \n",
       "2                      33.0                     765.0   \n",
       "3                     642.0                   12123.0   \n",
       "4                     236.0                    5315.0   \n",
       "5                     167.0                    4650.0   \n",
       "6                      85.0                    1975.0   \n",
       "7                      55.0                    1501.0   \n",
       "8                    3551.0                   79769.0   \n",
       "\n",
       "                                product_name_encoded  \n",
       "0               panamapeachantioxidantinfusion_12053  \n",
       "1      antioxidantinfusionsbeveragemalawimango_47272  \n",
       "2  antioxidantinfusionsipanemapomegranatebeverage...  \n",
       "3                             85leangroundbeef_13198  \n",
       "4                            raspberrylemonade_43967  \n",
       "5                       lactosefreefatfreemilk_40852  \n",
       "6                     vanillacoffeeconcentrate_17638  \n",
       "7                        organicdarkbrownsugar_29894  \n",
       "8                              honeycrispapple_45066  "
      ]
     },
     "execution_count": 16,
     "metadata": {},
     "output_type": "execute_result"
    }
   ],
   "source": [
    "sample_user = 7\n",
    "sequence_dict =  list_sequences_user_dict_train\n",
    "sentences_dict = sentences_user_dict_train\n",
    "\n",
    "print('First 10 users : {}'.format(list(sentences_dict.keys())[:10]))\n",
    "print('Exploring processed data for sample user: {} \\n'.format(str(sample_user)))\n",
    "print('Sentences for sample user: \\n {} \\n'.format(sentences_dict[sample_user]))\n",
    "print('Sequences for sample user: \\n {} \\n'.format(sequence_dict[sample_user]))\n",
    "print('First 10 user ids: {}'.format(list(sentences_dict.keys())[:10]))\n",
    "\n",
    "# Verify that the sentences and the list sequences are equivalent:\n",
    "# for i, product in enumerate(sentences_dict[sample_user].split()):\n",
    "#     assert product == sequence_dict[sample_user][i], 'Products are not identical in sentences and in seq of products'\n",
    "\n",
    "# Lets have a look at the first orders for the sample user.\n",
    "order_id = df_orders_train.loc[df_orders_train['user_id']==sample_user]['order_id'].values[0]\n",
    "df_order_products_train.loc[df_order_products_train['order_id']==order_id].merge(df_products, how='left', on='product_id')\n"
   ]
  },
  {
   "cell_type": "code",
   "execution_count": null,
   "metadata": {},
   "outputs": [],
   "source": []
  },
  {
   "cell_type": "markdown",
   "metadata": {},
   "source": [
    "## Colaborative filtering\n",
    "\n",
    "In this section we will explore if we can recommend products based on the co-occurrence in the same context (order basket) with other products. \n",
    "\n"
   ]
  },
  {
   "cell_type": "markdown",
   "metadata": {},
   "source": [
    "### Co-occurrence of products in the same context\n",
    "We will make use of sklearn's CountVectorizer in order to create the co-occurrence matrix of all our product sequences. Then we will use it to explore which products are more likely to be bought alongside other products. This will be the base mechanism of our simple recommender system."
   ]
  },
  {
   "cell_type": "code",
   "execution_count": 17,
   "metadata": {},
   "outputs": [],
   "source": [
    "sequence_dict =  list_sequences_user_dict_train\n",
    "sequence_list = list_sequences_train\n",
    "sentences_dict = sentences_user_dict_train\n",
    "sentence_lists = sentences_all_train"
   ]
  },
  {
   "cell_type": "code",
   "execution_count": 18,
   "metadata": {},
   "outputs": [],
   "source": [
    "# Method in modeling.py\n",
    "count_model, X = count_vectorizer(sentence_lists)"
   ]
  },
  {
   "cell_type": "code",
   "execution_count": 19,
   "metadata": {
    "scrolled": true
   },
   "outputs": [],
   "source": [
    "def matrix_breakdown(matrix_array):\n",
    "    print('Number of rows in matrix: {}'.format(len(matrix_array)))\n",
    "    print('Number of columns (elements in each row): {} \\n'.format(len(matrix_array[0])))\n",
    "\n",
    "    # Print the first three \n",
    "    print('First few rows of matrix')\n",
    "    for i in range(0,3): # len(matrix_array)):\n",
    "        print(matrix_array[i])\n",
    "\n",
    "    print('-------------------------------------------')\n",
    "    \n",
    "    flat_sequence_list = [product for sequence in sequence_list for product in sequence]\n",
    "    unique_products = list(set(flat_sequence_list))\n",
    "    \n",
    "    # Verify that row length must equal size of vocabulary\n",
    "    assert len(matrix_array[0]) == len(count_model.vocabulary_.keys()), 'Row length must equal size of vocabulary'\n",
    "    # Veryfy that the uique products found in the sequences used to create the matrix are actually equal to the vocabulary learned by Countvectorizer\n",
    "#     assert len(count_model.vocabulary_.keys()) == len(unique_products), 'Unique products must be equal to bocabulary learned'\n",
    "\n",
    "    print('Unique products in sequences: {}'.format(len(unique_products)))\n",
    "    print('Length of vocabulary : {} \\n'.format(len(count_model.vocabulary_.keys())))\n",
    "    print('Vocabulary (first 50): \\n {} \\n'.format(list(count_model.vocabulary_)[:50]))\n",
    "#     print('Feature names : {}'.format(count_model.get_feature_names()))"
   ]
  },
  {
   "cell_type": "code",
   "execution_count": 20,
   "metadata": {
    "scrolled": true
   },
   "outputs": [
    {
     "name": "stdout",
     "output_type": "stream",
     "text": [
      "Number of rows in matrix: 131209\n",
      "Number of columns (elements in each row): 39123 \n",
      "\n",
      "First few rows of matrix\n",
      "[0 0 0 ... 0 0 0]\n",
      "[0 0 0 ... 0 0 0]\n",
      "[0 0 0 ... 0 0 0]\n",
      "-------------------------------------------\n",
      "Unique products in sequences: 39123\n",
      "Length of vocabulary : 39123 \n",
      "\n",
      "Vocabulary (first 50): \n",
      " ['soda_196', 'organicstringcheese_25133', '0greekstrainedyogurt_38928', 'xlpickasizepapertowelrolls_26405', 'milkchocolatealmonds_39657', 'pistachios_10258', 'cinnamontoastcrunch_13032', 'agedwhitecheddarpopcorn_26088', 'organicwholemilk_27845', 'organichalfhalf_49235', 'zerocaloriecola_46149', 'organicroastedturkeybreast_22963', 'glutenfreewholegrainbread_7963', 'plantainchips_16589', 'chipotlebeefporkrealstick_32792', 'bartlettpears_41787', 'organicdanjoupears_22825', 'asianpears_13640', 'banana_24852', 'honeycrispapple_45066', 'grannysmithapples_9387', 'smallhassavocado_5450', 'unsweetenedalmondmilk_24838', 'bubblegumflavornaturalchewinggum_38547', 'uncuredslowcookedham_19019', 'organicalldayfreshdeodorantlavender_12007', 'chickencaesarsalad_26352', 'kitchencheeseenchilada_22559', 'padthai_45613', 'vegetablelasagna_31883', 'indianpaneertikka_12324', 'mexicancasserolebowl_33957', 'glutenfreemushroomrisottobowl_5699', 'blackbeanvegetablesburrito_31612', 'organiclightinsodiumbutternutsquashsoup_34284', 'birthdaycakelighticecream_48523', 'mintchip_2361', 'pistachioicecream_48821', 'shelledpistachios_11913', 'darkchocolatenutsseasaltbars_45645', 'organiccashewcarrotgingersoup_1757', 'organicheartysplitpeauncuredhamsoup_21329', 'organicrawagavenectar_15349', 'organiclargeextrafancyfujiapple_19057', 'sharpcheddarcheese_16185', 'organicsoba_21413', '100pureeucalyptusessentialoil_20843', 'jalapenopeppers_20114', 'tamariglutenfreesoysauce_48204', 'organicgrapetomatoes_40706'] \n",
      "\n",
      "set()\n"
     ]
    }
   ],
   "source": [
    "matrix_breakdown(X.toarray())\n",
    "print(count_model.stop_words_)"
   ]
  },
  {
   "cell_type": "markdown",
   "metadata": {},
   "source": [
    "No product is considered as a stop words. This means that products with very high number of sales might bias our results. "
   ]
  },
  {
   "cell_type": "code",
   "execution_count": 21,
   "metadata": {},
   "outputs": [],
   "source": [
    "def vectors_for_products_in_freq_matrix(vectorizer, matrix, product_names, verbose=True):\n",
    "    \"\"\"\n",
    "    Return rows of frequencey matrix that correspond to products passed.\n",
    "    - param vectorizer: count_vectorizer model \n",
    "    - param matrix: Product frequency matrix (returned by count vectorizer)\n",
    "    - param product_names: Names of the products for which we want to obtain the frequency rows\n",
    "    - param verbose: Defaults to true. Whether or not to print the logs\n",
    "    - return binary_rep_list: Return rows of frequencey matrix that correspond to products passed.\n",
    "    \"\"\"\n",
    "    # Returns a list of vectors asociated to each one of the products\n",
    "    binary_rep_list = []\n",
    "    for product_name in product_names:\n",
    "        feature_index = vectorizer.vocabulary_[product_name]\n",
    "        sequence_counts = [binary[0] for binary in matrix[:, feature_index:feature_index + 1]]\n",
    "        binary_rep_list.append(sequence_counts)\n",
    "\n",
    "        if verbose == True:\n",
    "            print('Product encoded name: {}, \\nFeature index: {}'.format(product_name, feature_index))\n",
    "            print('Item frequency in product sequence: {}'.format(sequence_counts[:50]))\n",
    "\n",
    "    return binary_rep_list"
   ]
  },
  {
   "cell_type": "code",
   "execution_count": 22,
   "metadata": {},
   "outputs": [
    {
     "name": "stdout",
     "output_type": "stream",
     "text": [
      "Product encoded name: 0greekstrainedyogurt_38928, \n",
      "Feature index: 14\n",
      "Item frequency in product sequence: [1, 0, 0, 0, 0, 0, 0, 0, 0, 0, 0, 0, 0, 0, 0, 0, 0, 0, 0, 0, 0, 0, 0, 0, 0, 0, 0, 0, 0, 0, 0, 0, 0, 0, 0, 0, 0, 0, 0, 0, 0, 0, 0, 0, 0, 0, 0, 0, 0, 0]\n",
      "Product encoded name: 100pureeucalyptusessentialoil_20843, \n",
      "Feature index: 258\n",
      "Item frequency in product sequence: [0, 0, 1, 0, 0, 0, 0, 0, 0, 0, 0, 0, 0, 0, 0, 0, 0, 0, 0, 0, 0, 0, 0, 0, 0, 0, 0, 0, 0, 0, 0, 0, 0, 0, 0, 0, 0, 0, 0, 0, 0, 0, 0, 0, 0, 0, 0, 0, 0, 0]\n"
     ]
    }
   ],
   "source": [
    "sample_products = ['0greekstrainedyogurt_38928', '100pureeucalyptusessentialoil_20843']\n",
    "count_vectors = vectors_for_products_in_freq_matrix(count_model, X.toarray(), sample_products, verbose=True)"
   ]
  },
  {
   "cell_type": "code",
   "execution_count": 23,
   "metadata": {},
   "outputs": [
    {
     "name": "stdout",
     "output_type": "stream",
     "text": [
      "[1, 0, 0, 0, 0, 0, 0, 0, 0, 0, 0, 0, 0, 0, 0, 0, 0, 0, 0, 0, 0, 0, 0, 0, 0, 0, 0, 0, 0, 0, 0, 0, 0, 0, 0, 0, 0, 0, 0, 0, 0, 0, 0, 0, 0, 0, 0, 0, 0, 0]\n"
     ]
    }
   ],
   "source": [
    "print(list(count_vectors[0])[:50])\n",
    "# print(count_vectors)"
   ]
  },
  {
   "cell_type": "markdown",
   "metadata": {},
   "source": [
    "Observations\n",
    "- Above we can see the frequency vectors that correspond to each one of the products in each sequence\n",
    "- 0greekstrainedyogurt_38928 has been seen once in the first sequence only\n",
    "- 100pureeucalyptusessentialoil_20843 has been seen in the third sequence only"
   ]
  },
  {
   "cell_type": "markdown",
   "metadata": {},
   "source": [
    "### Co-occurrence matrix\n",
    "\n",
    "Let's now use the sequence frequency matrix that we computed above in order to calculate the Item co-occurrence matrix. This new matrix will have dimension 125x125 since it will represent a mapping of which items have been seen together in the same context"
   ]
  },
  {
   "cell_type": "code",
   "execution_count": 24,
   "metadata": {},
   "outputs": [],
   "source": [
    "def vectors_for_products_in_cooccurrence_matrix(vectorizer, matrix, product_names, verbose=True):\n",
    "    \"\"\"\n",
    "    Return rows of co-occurrence matrix that correspond to products passed.\n",
    "    - param vectorizer: count_vectorizer model \n",
    "    - param matrix: Co-ocurrence matrix \n",
    "    - param product_names: Names of the products for which we want to obtain the frequency rows\n",
    "    - param verbose: Defaults to true. Whether or not to print the logs\n",
    "    - return binary_rep_list: Return rows of frequencey matrix that correspond to products passed.\n",
    "    \"\"\"\n",
    "    # Returns a dictionary\n",
    "    binary_rep_list = {}\n",
    "    for product_name in product_names:\n",
    "        feature_index = vectorizer.vocabulary_[product_name]\n",
    "        sequence_counts = matrix[feature_index]\n",
    "        binary_rep_list[product_name] = sequence_counts\n",
    "\n",
    "        if verbose == True:\n",
    "            print('Product encoded name: {}, \\nFeature index: {}'.format(product_name, feature_index))\n",
    "            print('Item frequencey in product sequence: {}'.format(sequence_counts))\n",
    "\n",
    "    return binary_rep_list\n",
    "\n",
    "\n",
    "def cooccurrent_product_frequencies(vectorizer, matrix, product_names, verbose=True):\n",
    "    \"\"\"\n",
    "    Calculates the products that have ocurred in the same context (ordered at the same time) as queried products (product_names)\n",
    "    - param vectorizer: count_vectorizer model \n",
    "    - param matrix: Co-ocurrence matrix \n",
    "    - param product_names: Names of the products for which we want to obtain the frequency rows\n",
    "    - param verbose: Defaults to true. Whether or not to print the logs\n",
    "    \n",
    "    - return cooccurence_vectors_dict: Return rows of co-occurrence matrix that correspond to products passed.\n",
    "    \"\"\"\n",
    "    product_occurrences_vector = vectors_for_products_in_cooccurrence_matrix(vectorizer, matrix, product_names, verbose)\n",
    "    sorted_vocab = {k: v for k, v in sorted(vectorizer.vocabulary_.items(), key=lambda item: item[1])}\n",
    "\n",
    "    cooccurence_vectors_dict = {}\n",
    "    for product, occurrences_vector in product_occurrences_vector.items():\n",
    "        product_occurrences_dict = {list(sorted_vocab.keys())[i]: e for i, e in enumerate(occurrences_vector) if e != 0}\n",
    "        # Sort product_occurrences_dict by value descending so we know which produxts appeared more times in the same context as queried products\n",
    "        # Then store it in cooccurence_vectors with the corresponding product name as key\n",
    "        sorted_ocurrences = {k: v for k, v in sorted(product_occurrences_dict.items(), key=lambda item: item[1], reverse=True)}\n",
    "        \n",
    "        # Create dataframe to present data\n",
    "        df_ocurrences = pd.DataFrame()\n",
    "        df_ocurrences['product_name_encoded'] = list(sorted_ocurrences.keys())\n",
    "        df_ocurrences['ocurrences'] = list(sorted_ocurrences.values())\n",
    "        \n",
    "        cooccurence_vectors_dict[product] = df_ocurrences\n",
    "    return cooccurence_vectors_dict"
   ]
  },
  {
   "cell_type": "code",
   "execution_count": 25,
   "metadata": {},
   "outputs": [
    {
     "name": "stdout",
     "output_type": "stream",
     "text": [
      "<class 'scipy.sparse.csr.csr_matrix'>\n"
     ]
    },
    {
     "data": {
      "text/plain": [
       "matrix([[0.        , 0.66666667, 0.66666667, ..., 0.        , 0.        ,\n",
       "         0.        ],\n",
       "        [0.18181818, 0.        , 0.45454545, ..., 0.        , 0.        ,\n",
       "         0.        ],\n",
       "        [0.33333333, 0.83333333, 0.        , ..., 0.        , 0.        ,\n",
       "         0.        ],\n",
       "        ...,\n",
       "        [0.        , 0.        , 0.        , ..., 0.        , 0.        ,\n",
       "         0.        ],\n",
       "        [0.        , 0.        , 0.        , ..., 0.        , 0.        ,\n",
       "         0.        ],\n",
       "        [0.        , 0.        , 0.        , ..., 0.        , 0.        ,\n",
       "         0.        ]])"
      ]
     },
     "execution_count": 25,
     "metadata": {},
     "output_type": "execute_result"
    }
   ],
   "source": [
    "Xc, Xc_norm = concurrence_matrix(X)\n",
    "print(type(Xc_norm))\n",
    "Xc_norm.todense()"
   ]
  },
  {
   "cell_type": "code",
   "execution_count": 26,
   "metadata": {
    "scrolled": true
   },
   "outputs": [
    {
     "name": "stdout",
     "output_type": "stream",
     "text": [
      "Number of rows in matrix: 39123\n",
      "Number of columns (elements in each row): 39123 \n",
      "\n",
      "First few rows of matrix\n",
      "[0 2 2 ... 0 0 0]\n",
      "[2 0 5 ... 0 0 0]\n",
      "[2 5 0 ... 0 0 0]\n",
      "-------------------------------------------\n",
      "Unique products in sequences: 39123\n",
      "Length of vocabulary : 39123 \n",
      "\n",
      "Vocabulary (first 50): \n",
      " ['soda_196', 'organicstringcheese_25133', '0greekstrainedyogurt_38928', 'xlpickasizepapertowelrolls_26405', 'milkchocolatealmonds_39657', 'pistachios_10258', 'cinnamontoastcrunch_13032', 'agedwhitecheddarpopcorn_26088', 'organicwholemilk_27845', 'organichalfhalf_49235', 'zerocaloriecola_46149', 'organicroastedturkeybreast_22963', 'glutenfreewholegrainbread_7963', 'plantainchips_16589', 'chipotlebeefporkrealstick_32792', 'bartlettpears_41787', 'organicdanjoupears_22825', 'asianpears_13640', 'banana_24852', 'honeycrispapple_45066', 'grannysmithapples_9387', 'smallhassavocado_5450', 'unsweetenedalmondmilk_24838', 'bubblegumflavornaturalchewinggum_38547', 'uncuredslowcookedham_19019', 'organicalldayfreshdeodorantlavender_12007', 'chickencaesarsalad_26352', 'kitchencheeseenchilada_22559', 'padthai_45613', 'vegetablelasagna_31883', 'indianpaneertikka_12324', 'mexicancasserolebowl_33957', 'glutenfreemushroomrisottobowl_5699', 'blackbeanvegetablesburrito_31612', 'organiclightinsodiumbutternutsquashsoup_34284', 'birthdaycakelighticecream_48523', 'mintchip_2361', 'pistachioicecream_48821', 'shelledpistachios_11913', 'darkchocolatenutsseasaltbars_45645', 'organiccashewcarrotgingersoup_1757', 'organicheartysplitpeauncuredhamsoup_21329', 'organicrawagavenectar_15349', 'organiclargeextrafancyfujiapple_19057', 'sharpcheddarcheese_16185', 'organicsoba_21413', '100pureeucalyptusessentialoil_20843', 'jalapenopeppers_20114', 'tamariglutenfreesoysauce_48204', 'organicgrapetomatoes_40706'] \n",
      "\n"
     ]
    }
   ],
   "source": [
    "# Let's have a look at our matrix\n",
    "matrix_breakdown(Xc.toarray())"
   ]
  },
  {
   "cell_type": "code",
   "execution_count": 28,
   "metadata": {},
   "outputs": [
    {
     "ename": "AttributeError",
     "evalue": "'DataFrame' object has no attribute 'vocabulary_'",
     "output_type": "error",
     "traceback": [
      "\u001b[0;31m---------------------------------------------------------------------------\u001b[0m",
      "\u001b[0;31mAttributeError\u001b[0m                            Traceback (most recent call last)",
      "\u001b[0;32m<ipython-input-28-262c3c98906c>\u001b[0m in \u001b[0;36m<module>\u001b[0;34m\u001b[0m\n\u001b[0;32m----> 1\u001b[0;31m \u001b[0mproduct_occurrences_vector\u001b[0m \u001b[0;34m=\u001b[0m \u001b[0mvectors_for_products_in_cooccurrence_matrix\u001b[0m\u001b[0;34m(\u001b[0m\u001b[0mdf_products\u001b[0m\u001b[0;34m,\u001b[0m \u001b[0mcount_model\u001b[0m\u001b[0;34m,\u001b[0m \u001b[0mXc_norm\u001b[0m\u001b[0;34m.\u001b[0m\u001b[0mtoarray\u001b[0m\u001b[0;34m(\u001b[0m\u001b[0;34m)\u001b[0m\u001b[0;34m,\u001b[0m \u001b[0msample_products\u001b[0m\u001b[0;34m)\u001b[0m\u001b[0;34m\u001b[0m\u001b[0;34m\u001b[0m\u001b[0m\n\u001b[0m\u001b[1;32m      2\u001b[0m \u001b[0mproduct_occurrences_vector\u001b[0m\u001b[0;34m\u001b[0m\u001b[0;34m\u001b[0m\u001b[0m\n",
      "\u001b[0;32m<ipython-input-24-82eab3e742e6>\u001b[0m in \u001b[0;36mvectors_for_products_in_cooccurrence_matrix\u001b[0;34m(vectorizer, matrix, product_names, verbose)\u001b[0m\n\u001b[1;32m     11\u001b[0m     \u001b[0mbinary_rep_list\u001b[0m \u001b[0;34m=\u001b[0m \u001b[0;34m{\u001b[0m\u001b[0;34m}\u001b[0m\u001b[0;34m\u001b[0m\u001b[0;34m\u001b[0m\u001b[0m\n\u001b[1;32m     12\u001b[0m     \u001b[0;32mfor\u001b[0m \u001b[0mproduct_name\u001b[0m \u001b[0;32min\u001b[0m \u001b[0mproduct_names\u001b[0m\u001b[0;34m:\u001b[0m\u001b[0;34m\u001b[0m\u001b[0;34m\u001b[0m\u001b[0m\n\u001b[0;32m---> 13\u001b[0;31m         \u001b[0mfeature_index\u001b[0m \u001b[0;34m=\u001b[0m \u001b[0mvectorizer\u001b[0m\u001b[0;34m.\u001b[0m\u001b[0mvocabulary_\u001b[0m\u001b[0;34m[\u001b[0m\u001b[0mproduct_name\u001b[0m\u001b[0;34m]\u001b[0m\u001b[0;34m\u001b[0m\u001b[0;34m\u001b[0m\u001b[0m\n\u001b[0m\u001b[1;32m     14\u001b[0m         \u001b[0msequence_counts\u001b[0m \u001b[0;34m=\u001b[0m \u001b[0mmatrix\u001b[0m\u001b[0;34m[\u001b[0m\u001b[0mfeature_index\u001b[0m\u001b[0;34m]\u001b[0m\u001b[0;34m\u001b[0m\u001b[0;34m\u001b[0m\u001b[0m\n\u001b[1;32m     15\u001b[0m         \u001b[0mbinary_rep_list\u001b[0m\u001b[0;34m[\u001b[0m\u001b[0mproduct_name\u001b[0m\u001b[0;34m]\u001b[0m \u001b[0;34m=\u001b[0m \u001b[0msequence_counts\u001b[0m\u001b[0;34m\u001b[0m\u001b[0;34m\u001b[0m\u001b[0m\n",
      "\u001b[0;32m~/opt/anaconda3/envs/ds-env/lib/python3.7/site-packages/pandas/core/generic.py\u001b[0m in \u001b[0;36m__getattr__\u001b[0;34m(self, name)\u001b[0m\n\u001b[1;32m   5177\u001b[0m             \u001b[0;32mif\u001b[0m \u001b[0mself\u001b[0m\u001b[0;34m.\u001b[0m\u001b[0m_info_axis\u001b[0m\u001b[0;34m.\u001b[0m\u001b[0m_can_hold_identifiers_and_holds_name\u001b[0m\u001b[0;34m(\u001b[0m\u001b[0mname\u001b[0m\u001b[0;34m)\u001b[0m\u001b[0;34m:\u001b[0m\u001b[0;34m\u001b[0m\u001b[0;34m\u001b[0m\u001b[0m\n\u001b[1;32m   5178\u001b[0m                 \u001b[0;32mreturn\u001b[0m \u001b[0mself\u001b[0m\u001b[0;34m[\u001b[0m\u001b[0mname\u001b[0m\u001b[0;34m]\u001b[0m\u001b[0;34m\u001b[0m\u001b[0;34m\u001b[0m\u001b[0m\n\u001b[0;32m-> 5179\u001b[0;31m             \u001b[0;32mreturn\u001b[0m \u001b[0mobject\u001b[0m\u001b[0;34m.\u001b[0m\u001b[0m__getattribute__\u001b[0m\u001b[0;34m(\u001b[0m\u001b[0mself\u001b[0m\u001b[0;34m,\u001b[0m \u001b[0mname\u001b[0m\u001b[0;34m)\u001b[0m\u001b[0;34m\u001b[0m\u001b[0;34m\u001b[0m\u001b[0m\n\u001b[0m\u001b[1;32m   5180\u001b[0m \u001b[0;34m\u001b[0m\u001b[0m\n\u001b[1;32m   5181\u001b[0m     \u001b[0;32mdef\u001b[0m \u001b[0m__setattr__\u001b[0m\u001b[0;34m(\u001b[0m\u001b[0mself\u001b[0m\u001b[0;34m,\u001b[0m \u001b[0mname\u001b[0m\u001b[0;34m,\u001b[0m \u001b[0mvalue\u001b[0m\u001b[0;34m)\u001b[0m\u001b[0;34m:\u001b[0m\u001b[0;34m\u001b[0m\u001b[0;34m\u001b[0m\u001b[0m\n",
      "\u001b[0;31mAttributeError\u001b[0m: 'DataFrame' object has no attribute 'vocabulary_'"
     ]
    }
   ],
   "source": [
    "product_occurrences_vector = vectors_for_products_in_cooccurrence_matrix(df_products, count_model, Xc_norm.toarray(), sample_products)\n",
    "product_occurrences_vector"
   ]
  },
  {
   "cell_type": "markdown",
   "metadata": {},
   "source": [
    "Observations:\n",
    "- We can now extract the row corresponding to each one of the products in the co-ocurrence matrix"
   ]
  },
  {
   "cell_type": "code",
   "execution_count": null,
   "metadata": {},
   "outputs": [],
   "source": [
    "sample_products = ['0greekstrainedyogurt_38928', '100pureeucalyptusessentialoil_20843']\n",
    "cooccurence_vectors = cooccurrent_product_frequencies(count_model, Xc.toarray(), sample_products, verbose=True)\n",
    "cooccurence_vectors.keys()"
   ]
  },
  {
   "cell_type": "code",
   "execution_count": null,
   "metadata": {},
   "outputs": [],
   "source": [
    "cooccurence_vectors['0greekstrainedyogurt_38928']\n",
    "cooccurence_vectors['100pureeucalyptusessentialoil_20843']"
   ]
  },
  {
   "cell_type": "markdown",
   "metadata": {},
   "source": [
    "### TfIdf"
   ]
  },
  {
   "cell_type": "code",
   "execution_count": null,
   "metadata": {},
   "outputs": [],
   "source": [
    "# Metod in modeling.py\n",
    "df_weights = tfidf_transformer(X, count_model)\n",
    "df_weights.head(10)"
   ]
  },
  {
   "cell_type": "markdown",
   "metadata": {},
   "source": [
    "## Embedding: Similar users. (WIP)\n",
    "\n",
    "We will use word2vec to embed our products into a vector space.Then we will average all the product vectors that correspond to every user in order to obtain a vector that will represent each user. Then we will use the cosine similarity to compare and be able to fetch the most similar users to a specific user."
   ]
  },
  {
   "cell_type": "code",
   "execution_count": null,
   "metadata": {},
   "outputs": [],
   "source": [
    "sequence_dict =  list_sequences_user_dict_train\n",
    "sequence_list = list_sequences_train\n",
    "sentences_dict = sentences_user_dict_train\n",
    "sentence_lists = sentences_all_train"
   ]
  },
  {
   "cell_type": "code",
   "execution_count": 29,
   "metadata": {},
   "outputs": [],
   "source": [
    "sample_product = 'Organic Whole Milk'"
   ]
  },
  {
   "cell_type": "code",
   "execution_count": 30,
   "metadata": {},
   "outputs": [
    {
     "name": "stdout",
     "output_type": "stream",
     "text": [
      "Word2Vec(vocab=39123, size=100, alpha=0.025)\n"
     ]
    }
   ],
   "source": [
    "# train model\n",
    "model = Word2Vec(sequence_list, min_count=1)\n",
    "# summarize the loaded model\n",
    "print(model)"
   ]
  },
  {
   "cell_type": "code",
   "execution_count": 31,
   "metadata": {},
   "outputs": [],
   "source": [
    "# # save model\n",
    "# model.save('word2vec_train.bin')\n",
    "# # load model\n",
    "# new_model = Word2Vec.load('model.bin')\n",
    "# print(new_model)"
   ]
  },
  {
   "cell_type": "code",
   "execution_count": 32,
   "metadata": {},
   "outputs": [],
   "source": [
    "# Explore the vocabulary learned by the model\n",
    "vocabulary = list(model.wv.vocab)\n",
    "# 'The length of the vocabulary learned by the model must be equal to the number of unique products'\n",
    "assert df_order_products_train['product_id'].nunique() == len(vocabulary), 'The length of the vocabulary learned by the model must be equal to the number of unique products'"
   ]
  },
  {
   "cell_type": "code",
   "execution_count": 33,
   "metadata": {},
   "outputs": [
    {
     "name": "stdout",
     "output_type": "stream",
     "text": [
      "[-6.79030359e-01  9.58058655e-01  1.83186501e-01 -3.50551039e-01\n",
      "  8.93172681e-01  3.41466427e-01  1.12725072e-01 -1.38810503e+00\n",
      " -2.68960863e-01 -1.53976357e+00 -3.21380258e-01 -1.26317894e+00\n",
      " -1.00780618e+00 -2.86231399e-01  6.28419042e-01 -4.37934637e-01\n",
      "  8.13043237e-01  5.99699020e-01 -7.88646817e-01 -1.08671308e+00\n",
      "  4.05712781e-04  1.01731372e+00 -8.00705016e-01 -1.03502679e+00\n",
      "  3.95296216e-01  1.15162864e-01  1.22745585e+00 -4.94483411e-01\n",
      " -6.40845776e-01 -4.53344673e-01 -1.19685423e+00 -2.24665284e-01\n",
      " -9.08734575e-02 -2.63132811e-01  1.73199153e+00  5.97966552e-01\n",
      "  3.82604897e-01 -7.76459754e-01  8.33808899e-01 -3.95463735e-01\n",
      "  7.60095716e-02 -5.73321700e-01 -2.08535790e-01  1.29619861e+00\n",
      "  8.70873630e-02  6.91080332e-01  2.23969787e-01  1.34733915e+00\n",
      "  5.11846483e-01 -6.30724847e-01  2.79474538e-02 -8.12684298e-01\n",
      " -1.14238009e-01  5.85486174e-01  1.16969490e+00  4.30209756e-01\n",
      "  1.17629409e+00 -7.90772021e-01 -3.80282670e-01  5.19743443e-01\n",
      " -7.44584918e-01 -1.50381342e-01  1.08187711e+00  1.96933016e-01\n",
      " -1.05528927e+00 -6.72390997e-01  6.06367514e-02 -4.48980302e-01\n",
      " -4.67745692e-01  1.86225224e+00  5.25394738e-01  1.71575412e-01\n",
      "  1.10598612e+00 -6.12985253e-01 -1.14668012e+00 -4.42394763e-02\n",
      "  8.88968349e-01 -1.47812474e+00  1.75208136e-01  6.63325191e-04\n",
      " -4.83996063e-01 -1.88205254e+00  1.07223046e+00 -1.63602829e-02\n",
      " -1.01703596e+00  1.41660213e-01 -2.42588803e-01  7.59686708e-01\n",
      " -4.68897164e-01 -5.71692288e-01  3.45525086e-01 -3.79592687e-01\n",
      "  7.59637356e-01  7.10366130e-01 -1.89940739e+00  6.40784577e-02\n",
      "  1.01441300e+00  6.97985590e-01 -2.03464404e-02  8.12881052e-01]\n"
     ]
    }
   ],
   "source": [
    "# Vector learned for sample product\n",
    "print(model.wv.get_vector(sample_product))"
   ]
  },
  {
   "cell_type": "code",
   "execution_count": 34,
   "metadata": {},
   "outputs": [
    {
     "data": {
      "text/plain": [
       "[('Organic Apple Slices', 0.9746099710464478),\n",
       " ('Best Cinnamon Bread', 0.9736550450325012),\n",
       " ('Organic Southwest Salad', 0.9577029943466187),\n",
       " ('Organic Multi-grain Baby Cereal', 0.9525619745254517),\n",
       " ('Dried Mangoes', 0.9518158435821533),\n",
       " ('Organic Good Seed Bread', 0.9510385990142822),\n",
       " ('Dried Mango', 0.9507284164428711),\n",
       " ('Bean & Cheese Burrito', 0.9507197141647339),\n",
       " ('Marcona Almonds', 0.9476267099380493),\n",
       " ('Organic Chicken & Mozzarella Ravioli', 0.9467918872833252)]"
      ]
     },
     "execution_count": 34,
     "metadata": {},
     "output_type": "execute_result"
    }
   ],
   "source": [
    "model.wv.most_similar('Organic String Cheese')"
   ]
  },
  {
   "cell_type": "code",
   "execution_count": 35,
   "metadata": {},
   "outputs": [
    {
     "data": {
      "text/plain": [
       "<matplotlib.collections.PathCollection at 0x7fb60ba26190>"
      ]
     },
     "execution_count": 35,
     "metadata": {},
     "output_type": "execute_result"
    },
    {
     "data": {
      "image/png": "[encoded data removed]",
      "text/plain": [
       "<Figure size 1440x720 with 1 Axes>"
      ]
     },
     "metadata": {
      "needs_background": "dark"
     },
     "output_type": "display_data"
    }
   ],
   "source": [
    "# Initialize PCA with n_components=2) so that we compress our vectors into plottable pairs\n",
    "pca = PCA(n_components=2)\n",
    "# Extract all the vectors in model\n",
    "X = model.wv[model.wv.vocab]\n",
    "# Fit PCA to our vectors\n",
    "result = pca.fit_transform(X)\n",
    "vocabulary = list(model.wv.vocab)\n",
    "# create a scatter plot of the projection\n",
    "pyplot.scatter(result[:, 0], result[:, 1])\n",
    "\n",
    "# for i, product in enumerate(vocabulary):\n",
    "# \tpyplot.annotate(product, xy=(result[i, 0], result[i, 1]))\n",
    "# pyplot.show();"
   ]
  },
  {
   "cell_type": "markdown",
   "metadata": {},
   "source": [
    "This is a 2 dimensional representation of our product embedding vector space."
   ]
  },
  {
   "cell_type": "markdown",
   "metadata": {},
   "source": [
    "### User vectors"
   ]
  },
  {
   "cell_type": "code",
   "execution_count": 36,
   "metadata": {},
   "outputs": [
    {
     "name": "stdout",
     "output_type": "stream",
     "text": [
      "Product sequence for user_id : \n",
      " ['Soda' 'Organic String Cheese' '0% Greek Strained Yogurt'\n",
      " 'XL Pick-A-Size Paper Towel Rolls' 'Milk Chocolate Almonds' 'Pistachios'\n",
      " 'Cinnamon Toast Crunch' 'Aged White Cheddar Popcorn' 'Organic Whole Milk'\n",
      " 'Organic Half & Half' 'Zero Calorie Cola'] \n",
      "\n",
      "Vectors for products: \n",
      "[[-2.6763628   0.31824473  0.65566254 ... -1.4784782   0.07485726\n",
      "  -0.8639203 ]\n",
      " [-0.52891046 -0.13485053  0.06600048 ... -0.05863804  0.24986058\n",
      "  -0.02632613]\n",
      " [-1.9657121   0.01630028  0.94796824 ... -0.942737    0.43372226\n",
      "  -0.50444937]\n",
      " ...\n",
      " [-0.67903036  0.95805866  0.1831865  ...  0.6979856  -0.02034644\n",
      "   0.81288105]\n",
      " [-1.0499882   0.3664749  -0.15180841 ...  0.19070117 -0.33798316\n",
      "   0.1659437 ]\n",
      " [-1.7002043  -0.02417015  0.6590633  ... -0.8334774   0.42510745\n",
      "  -0.4959854 ]]\n",
      "\n",
      "User vector: \n",
      "[-1.24168992e+00  1.36013493e-01  4.64763433e-01 -1.69278800e-01\n",
      "  1.03148746e+00  6.26158714e-02  9.46096145e-03 -5.48730612e-01\n",
      "  3.29261810e-01  3.33291978e-01 -5.35542250e-01  3.24876666e-01\n",
      " -4.97340292e-01  2.71090597e-01  3.36273015e-01  5.97712696e-01\n",
      "  4.99522418e-01  4.37360793e-01 -9.80734229e-01 -1.34818584e-01\n",
      "  2.72019416e-01  2.34154239e-01 -3.12778801e-01  3.02492827e-01\n",
      "  3.70467752e-01 -8.31369936e-01  2.40750164e-01 -4.84372526e-02\n",
      " -5.59458792e-01 -4.96447593e-01 -5.84301114e-01 -3.43602210e-01\n",
      "  1.47606039e+00 -1.86645178e-04  2.09340954e+00 -1.15707159e-01\n",
      " -8.88211787e-01 -5.94404386e-03 -4.01518822e-01 -3.11939120e-01\n",
      "  5.01691103e-01 -8.46911490e-01  4.64064687e-01  1.88512430e-01\n",
      "  8.17579627e-01  4.52564687e-01  2.72730291e-01  6.64112270e-01\n",
      "  7.06383228e-01 -2.99830794e-01  5.12821257e-01  3.51151913e-01\n",
      " -7.03375638e-02  1.97166637e-01  1.17288136e+00  6.05429590e-01\n",
      " -1.80429444e-01 -5.50508082e-01  2.73880213e-01  4.80290592e-01\n",
      "  2.58457452e-01 -1.24468260e-01  1.11868819e-02  5.77917576e-01\n",
      "  5.33613622e-01  2.89121032e-01  8.72923583e-02 -8.86580423e-02\n",
      " -3.82012725e-01  1.08891159e-01  2.83226728e-01 -2.84461230e-01\n",
      "  4.14610177e-01  1.42273605e-01 -6.36535406e-01  1.89590216e-01\n",
      "  8.61079752e-01 -6.40375214e-03 -3.38091999e-02  4.92231280e-01\n",
      "  2.98712850e-01 -8.29734445e-01  1.06122935e+00 -2.86110044e-01\n",
      " -7.87878096e-01 -3.92639279e-01 -4.29291427e-01  2.20336780e-01\n",
      "  9.53871012e-01 -1.13529995e-01  1.52414933e-01 -5.35215735e-01\n",
      " -6.81060255e-01  6.20283663e-01 -1.41990936e+00  2.26658478e-01\n",
      "  3.28273088e-01 -4.78071481e-01  1.83823675e-01 -2.18925282e-01]\n",
      "\n"
     ]
    }
   ],
   "source": [
    "user_id = 1\n",
    "products_for_user_id1 = sequence_dict[1][0] # The [0] is to access the list value \n",
    "print('Product sequence for user_id : \\n {} \\n'.format(products_for_user_id1))\n",
    "\n",
    "product_vectors_user_id1 = model.wv[products_for_user_id1]\n",
    "print('Vectors for products: \\n{}\\n'.format(product_vectors_user_id1))\n",
    "\n",
    "# This is the vector for each one of the users\n",
    "user_vector_id1 = np.average(product_vectors_user_id1, axis=0)\n",
    "print('User vector: \\n{}\\n'.format(user_vector_id1))"
   ]
  },
  {
   "cell_type": "code",
   "execution_count": 37,
   "metadata": {},
   "outputs": [],
   "source": [
    "# assert product_vectors[0].all(model.wv[sequence_dict[1][0][0]]) == True\n",
    "# ## Vector for 'Soda\n",
    "# print(model.wv['Soda'])\n",
    "# # First vector in returned represenation\n",
    "# print(product_vectors[0])\n",
    "# # Vector representaion for the first item in the \n",
    "# print(model.wv[sequence_dict[1][0][0]])"
   ]
  },
  {
   "cell_type": "code",
   "execution_count": 38,
   "metadata": {
    "scrolled": false
   },
   "outputs": [],
   "source": [
    "def compute_user_vectors(model, user_ids, sequence_dict):\n",
    "    user_vectors_dict = {}\n",
    "    for user_id in user_ids:\n",
    "        products_for_user = sequence_dict[user_id][0] # The [0] is to access the list value \n",
    "        product_vectors_user = model.wv[products_for_user]\n",
    "        user_vectors_dict[user_id] = np.average(product_vectors_user, axis=0)\n",
    "    return user_vectors_dict"
   ]
  },
  {
   "cell_type": "code",
   "execution_count": 39,
   "metadata": {},
   "outputs": [
    {
     "ename": "NameError",
     "evalue": "name 'user_ids_train' is not defined",
     "output_type": "error",
     "traceback": [
      "\u001b[0;31m---------------------------------------------------------------------------\u001b[0m",
      "\u001b[0;31mNameError\u001b[0m                                 Traceback (most recent call last)",
      "\u001b[0;32m<ipython-input-39-40723f0d55b4>\u001b[0m in \u001b[0;36m<module>\u001b[0;34m\u001b[0m\n\u001b[0;32m----> 1\u001b[0;31m \u001b[0musr_id_vector_dict\u001b[0m \u001b[0;34m=\u001b[0m \u001b[0mcompute_user_vectors\u001b[0m\u001b[0;34m(\u001b[0m\u001b[0mmodel\u001b[0m\u001b[0;34m,\u001b[0m \u001b[0muser_ids_train\u001b[0m\u001b[0;34m,\u001b[0m \u001b[0msequence_dict\u001b[0m\u001b[0;34m)\u001b[0m\u001b[0;34m\u001b[0m\u001b[0;34m\u001b[0m\u001b[0m\n\u001b[0m",
      "\u001b[0;31mNameError\u001b[0m: name 'user_ids_train' is not defined"
     ]
    }
   ],
   "source": [
    "usr_id_vector_dict = compute_user_vectors(model, user_ids_train, sequence_dict)"
   ]
  },
  {
   "cell_type": "code",
   "execution_count": null,
   "metadata": {},
   "outputs": [],
   "source": [
    "# assert usr_id_vector_dict[1] == user_vector_id1\n",
    "print(usr_id_vector_dict[1])"
   ]
  },
  {
   "cell_type": "code",
   "execution_count": null,
   "metadata": {},
   "outputs": [],
   "source": [
    "# usr_id_vector_dict.values()\n",
    "usr_ids = list(usr_id_vector_dict.keys())\n",
    "usr_vectors = list(usr_id_vector_dict.values())"
   ]
  },
  {
   "cell_type": "code",
   "execution_count": null,
   "metadata": {},
   "outputs": [],
   "source": [
    "print('Numer of user_ids: {}'.format(len(usr_ids)))\n",
    "print(usr_ids[0])\n",
    "print()"
   ]
  },
  {
   "cell_type": "code",
   "execution_count": null,
   "metadata": {},
   "outputs": [],
   "source": [
    "def get_similar_users(user_id, usr_id_vector_dict):\n",
    "    user_vector = usr_id_vector_dict[user_id]\n",
    "    \n",
    "    for userid, user_vector in usr_id_vector_dict.items(): \n",
    "    "
   ]
  },
  {
   "cell_type": "code",
   "execution_count": null,
   "metadata": {},
   "outputs": [],
   "source": [
    "pca = PCA(n_components=2)\n",
    "result = pca.fit_transform(usr_vectors)\n",
    "pyplot.scatter(result[:, 0], result[:, 1])\n",
    "\n",
    "for i, user_id in enumerate(usr_ids):\n",
    "\tpyplot.annotate(usr_ids, xy=(result[i, 0], result[i, 1]))\n",
    "pyplot.show();"
   ]
  },
  {
   "cell_type": "code",
   "execution_count": null,
   "metadata": {},
   "outputs": [],
   "source": [
    "result"
   ]
  },
  {
   "cell_type": "code",
   "execution_count": null,
   "metadata": {},
   "outputs": [],
   "source": []
  },
  {
   "cell_type": "code",
   "execution_count": null,
   "metadata": {},
   "outputs": [],
   "source": []
  },
  {
   "cell_type": "code",
   "execution_count": null,
   "metadata": {},
   "outputs": [],
   "source": []
  }
 ],
 "metadata": {
  "kernelspec": {
   "display_name": "Python 3",
   "language": "python",
   "name": "python3"
  },
  "language_info": {
   "codemirror_mode": {
    "name": "ipython",
    "version": 3
   },
   "file_extension": ".py",
   "mimetype": "text/x-python",
   "name": "python",
   "nbconvert_exporter": "python",
   "pygments_lexer": "ipython3",
   "version": "3.7.5"
  },
  "toc": {
   "base_numbering": 1,
   "nav_menu": {},
   "number_sections": true,
   "sideBar": true,
   "skip_h1_title": false,
   "title_cell": "Table of Contents",
   "title_sidebar": "Contents",
   "toc_cell": false,
   "toc_position": {},
   "toc_section_display": true,
   "toc_window_display": true
  }
 },
 "nbformat": 4,
 "nbformat_minor": 2
}
